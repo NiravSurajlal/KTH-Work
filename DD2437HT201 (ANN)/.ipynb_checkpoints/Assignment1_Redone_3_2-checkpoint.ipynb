{
 "cells": [
  {
   "cell_type": "markdown",
   "metadata": {},
   "source": [
    "# Classification and Regression with a two-layer Perceptron"
   ]
  },
  {
   "cell_type": "markdown",
   "metadata": {},
   "source": [
    "## Classification of linearly non-seperable data"
   ]
  },
  {
   "cell_type": "markdown",
   "metadata": {},
   "source": [
    "Generation of the data"
   ]
  },
  {
   "cell_type": "code",
   "execution_count": 4,
   "metadata": {},
   "outputs": [],
   "source": [
    "\n",
    "class Data:\n",
    "    def __init__(self, mean, cov, n, change=False):\n",
    "        self.mean = mean\n",
    "        self.cov = cov\n",
    "        self.n = n\n",
    "        self.labels = []\n",
    "        if change:\n",
    "            self.give_distributions2()\n",
    "        else:\n",
    "            self.give_distributions()\n",
    "        self.set_labels()\n",
    "        self.set_data()\n",
    "\n",
    "    def give_distributions(self):\n",
    "        self.x = (np.multiply( np.random.randn(1, self.n), self.cov ) + self.mean[0])[0]\n",
    "        self.y = (np.multiply( np.random.randn(1, self.n), self.cov ) + self.mean[1])[0] \n",
    "\n",
    "    def give_distributions2(self):\n",
    "        self.x = (np.multiply( np.random.randn(1, round(0.5*self.n)), self.cov ) - self.mean[0])[0]\n",
    "        self.y = (np.multiply( np.random.randn(1, round(0.5*self.n)), self.cov ) + self.mean[1])[0] \n",
    "    \n",
    "    def set_labels(self):\n",
    "        for i in range(0, len(self.x)):\n",
    "            if self.y[i] > 0:\n",
    "                self.labels.append(1.0)\n",
    "            else:\n",
    "                self.labels.append(-1)\n",
    "\n",
    "    def set_data(self):\n",
    "        bias = -1*np.ones(len(self.x))\n",
    "        self.training_data = np.array([list(self.x), list(self.y), bias, list(self.labels)])\n",
    "        self.training_data = np.transpose(self.training_data)\n",
    "        # np.random.shuffle(self.training_data)\n",
    "        self.X = self.training_data[:, 0:3]\n",
    "        self.Y = self.training_data[:, 3]\n",
    "\n",
    "def randomise_data(dataA, dataB):\n",
    "    all_data = np.concatenate((dataA,dataB), axis=0)\n",
    "    np.random.shuffle(all_data)\n",
    "\n",
    "    inputs = all_data[:, 0:3]\n",
    "    labels = all_data[:, 3:4]\n",
    "    return all_data, inputs, labels\n",
    "\n",
    "def plot_data(dataA, dataB): \n",
    "    plt.figure() \n",
    "    plt.scatter(dataA.x, dataA.y, color='blue')\n",
    "    plt.scatter(dataB.x, dataB.y, color='red')\n",
    "    plt.title('Data Set A1 vs B1') \n",
    "    blue = mpatches.Patch(color='blue', label='Class A')\n",
    "    red = mpatches.Patch(color='red', label='Class B')\n",
    "    plt.legend(handles=[blue, red])\n",
    "    # plt.xticks(np.arange(-3.5, 3.6, 0.5))\n",
    "    # plt.yticks(np.arange(-3.5, 3.6, 0.5))\n",
    "    plt.show()   \n"
   ]
  },
  {
   "cell_type": "code",
   "execution_count": 5,
   "metadata": {},
   "outputs": [
    {
     "data": {
      "image/png": "[encoded data removed]",
      "text/plain": [
       "<matplotlib.figure.Figure at 0x7fd62b9da860>"
      ]
     },
     "metadata": {},
     "output_type": "display_data"
    }
   ],
   "source": [
    "import numpy as np\n",
    "import matplotlib.pyplot as plt\n",
    "import matplotlib.patches as mpatches\n",
    "\n",
    "n = 100\n",
    "meanA = [1.0, 0.3]\n",
    "meanB = [0.0, -0.1]\n",
    "sigmaA = 0.2\n",
    "sigmaB = 0.3\n",
    "\n",
    "dataA = Data(meanA, sigmaA, n, change=True)\n",
    "dataB = Data(meanB, sigmaB, n)\n",
    "\n",
    "randomised_data, inputs, targets = randomise_data(dataA.training_data, dataB.training_data)\n",
    "\n",
    "plot_data(dataA, dataB)"
   ]
  },
  {
   "cell_type": "markdown",
   "metadata": {},
   "source": [
    "## MLP BackProp Algo"
   ]
  },
  {
   "cell_type": "code",
   "execution_count": 4,
   "metadata": {},
   "outputs": [],
   "source": [
    "class MLP:\n",
    "    num_inputs = 2\n",
    "    num_outputs = 1\n",
    "    momentum = 0.9\n",
    "    \n",
    "    def __init__(self, patterns, targets, num_hidden_nodes, epochs, learning_rate, step_length):\n",
    "        # 1 row is all inputs\n",
    "        self.patterns = patterns\n",
    "        self.targets = targets\n",
    "        self.num_hidden_nodes = num_hidden_nodes\n",
    "        self.epochs = epochs\n",
    "        self.learning_rate = learning_rate\n",
    "        self.step_length = step_length \n",
    "        \n",
    "        # (num_inputs+1) by (num_hidden_nodes)\n",
    "        self.input_weights = np.ones((self.num_input, num_hidden_nodes))*hid_weight_inits\n",
    "        # (num_hidden_nodes+1) by (num_outputs)\n",
    "        self.hidden_weights = np.ones((num_hidden_nodes+1, num_outputs))*out_weight_inits\n",
    "        \n",
    "        \n",
    "        # forward pass parameters\n",
    "        self.hidden_layer_outputs = []\n",
    "        self.tf_hidden_derivative = []\n",
    "        self.output_layer_outputs = []\n",
    "        self.tf_output_derivative = []\n",
    "    \n",
    "    def train(self):\n",
    "        for e in range(0, self.epoch):\n",
    "            self.fwd_pass()\n",
    "            self.bck_pass()\n",
    "            self.weight_update()\n",
    "            \n",
    "    def fwd_pass(self):\n",
    "        self.hidden_layers_fwd_pass(self.patterns)\n",
    "        self.output_layer_fwd_pass(self.hidden_layer_outputs[0])\n",
    "    \n",
    "    def bck_pass(self):\n",
    "        self.output_error()\n",
    "        self.hidden_error()\n",
    "        \n",
    "    def weight_update():\n",
    "        # hidden weight update\n",
    "        h_w_update = -self.learning_rate\n",
    "    \n",
    "    def hidden_layers_fwd_pass(self, inputs):\n",
    "        # every row corres to hidden layer out (sample), where each col is out from a node\n",
    "        h_star = np.dot(inputs, self.input_weights)\n",
    "        # outputs stored in hidden_layer_outputs[0]\n",
    "        self.hidden_layer_outputs.append((2/(1+np.exp(h_star))) - 1)\n",
    "        \n",
    "        # calc derivative, stored in tf_derivative[0]\n",
    "        t1 = 1+self.hidden_layer_outputs[0]\n",
    "        t2 = 1-self.hidden_layer_outputs[0]\n",
    "        # derivative per node stored in columns, with each row corres to sample\n",
    "        self.tf_derivative.append((t1*t2)/2)\n",
    "    \n",
    "    def output_layer_fwd_pass(self, inputs):\n",
    "        # every row corres to hidden layer out, where each col is out from a node\n",
    "        o_star = np.dot(inputs, self.hidden_weights)\n",
    "        # outputs stored in hidden_layer_outputs[0]\n",
    "        self.output_layer_outputs.append((2/(1+np.exp(o_star))) - 1)\n",
    "        \n",
    "        # calc derivative, stored in tf_derivative[0]\n",
    "        t1 = 1+self.output_layer_outputs[0]\n",
    "        t2 = 1-self.output_layer_outputs[0]\n",
    "        self.tf_output_derivative.append((t1[0]*t2[0])/2)\n",
    "        \n",
    "    def output_error(self):\n",
    "        # vector of delta per sample\n",
    "        self.delta_o = (self.output_layer_outputs[0] - self.targets)*self.tf_output_derivative[0]\n",
    "    \n",
    "    def hidden_error(self):\n",
    "        # output weight vec excluding bias \n",
    "        w_vec = (np.reshape(self.hidden_weights, (-1,1)))[:len(self.hidden_weights)-1,0]\n",
    "        # multiplies errors corres to hid_node\n",
    "        # gives mtrx with d_h1, dh_2, d_h3 .... and row per sample\n",
    "        w_delta_o = self.tf_derivative*np.reshape(w_vec*sum(self.delta_o), (1,-1)))"
   ]
  },
  {
   "cell_type": "markdown",
   "metadata": {},
   "source": [
    "Implement classfication using the MLP and the data non-linearly seperable data generated above."
   ]
  },
  {
   "cell_type": "code",
   "execution_count": 10,
   "metadata": {},
   "outputs": [],
   "source": [
    "patterns = False\n",
    "targets = False \n",
    "num_hidden_nodes = False\n",
    "epochs = False\n",
    "learning_rate = False\n",
    "step_length  =False\n",
    "\n",
    "TEMPERARY = MLP(patterns, targets, num_hidden_nodes, epochs, learning_rate, step_length)"
   ]
  },
  {
   "cell_type": "code",
   "execution_count": 11,
   "metadata": {},
   "outputs": [
    {
     "name": "stdout",
     "output_type": "stream",
     "text": [
      "0\n"
     ]
    }
   ],
   "source": [
    "for i in range(0,1):\n",
    "    print(i)"
   ]
  },
  {
   "cell_type": "code",
   "execution_count": 29,
   "metadata": {},
   "outputs": [
    {
     "data": {
      "text/plain": [
       "array([[0.76159416, 0.9866143 ],\n",
       "       [0.90514825, 0.99505475],\n",
       "       [0.96402758, 0.9981779 ]])"
      ]
     },
     "execution_count": 29,
     "metadata": {},
     "output_type": "execute_result"
    }
   ],
   "source": [
    "q = np.array([[2,5],[3,6],[4,7]])\n",
    "q2 = np.array([[2,2,2],[3,3,3],[4,4,4],[5,5,5]])\n",
    "x = (2/(1+np.exp(-q))) -1\n",
    "x"
   ]
  },
  {
   "cell_type": "code",
   "execution_count": 38,
   "metadata": {},
   "outputs": [
    {
     "data": {
      "text/plain": [
       "[array([[-0.76159416, -0.76159416, -0.76159416],\n",
       "        [-0.90514825, -0.90514825, -0.90514825],\n",
       "        [-0.96402758, -0.96402758, -0.96402758],\n",
       "        [-0.9866143 , -0.9866143 , -0.9866143 ]])]"
      ]
     },
     "execution_count": 38,
     "metadata": {},
     "output_type": "execute_result"
    }
   ],
   "source": [
    "g = []\n",
    "g.append((2/(1+np.exp(q2))) - 1)\n",
    "g"
   ]
  },
  {
   "cell_type": "code",
   "execution_count": 44,
   "metadata": {},
   "outputs": [
    {
     "data": {
      "text/plain": [
       "array([[0.23840584, 0.23840584, 0.23840584],\n",
       "       [0.09485175, 0.09485175, 0.09485175],\n",
       "       [0.03597242, 0.03597242, 0.03597242],\n",
       "       [0.0133857 , 0.0133857 , 0.0133857 ]])"
      ]
     },
     "execution_count": 44,
     "metadata": {},
     "output_type": "execute_result"
    }
   ],
   "source": [
    "(1+g[0])"
   ]
  },
  {
   "cell_type": "code",
   "execution_count": 45,
   "metadata": {},
   "outputs": [
    {
     "data": {
      "text/plain": [
       "array([[1.76159416, 1.76159416, 1.76159416],\n",
       "       [1.90514825, 1.90514825, 1.90514825],\n",
       "       [1.96402758, 1.96402758, 1.96402758],\n",
       "       [1.9866143 , 1.9866143 , 1.9866143 ]])"
      ]
     },
     "execution_count": 45,
     "metadata": {},
     "output_type": "execute_result"
    }
   ],
   "source": [
    "(1-g[0])"
   ]
  },
  {
   "cell_type": "code",
   "execution_count": 46,
   "metadata": {},
   "outputs": [
    {
     "data": {
      "text/plain": [
       "array([[0.41997434, 0.41997434, 0.41997434],\n",
       "       [0.18070664, 0.18070664, 0.18070664],\n",
       "       [0.07065082, 0.07065082, 0.07065082],\n",
       "       [0.02659223, 0.02659223, 0.02659223]])"
      ]
     },
     "execution_count": 46,
     "metadata": {},
     "output_type": "execute_result"
    }
   ],
   "source": [
    "(1+g[0])*(1-g[0])"
   ]
  },
  {
   "cell_type": "code",
   "execution_count": 49,
   "metadata": {},
   "outputs": [
    {
     "data": {
      "text/plain": [
       "array([[0.20998717, 0.20998717, 0.20998717],\n",
       "       [0.09035332, 0.09035332, 0.09035332],\n",
       "       [0.03532541, 0.03532541, 0.03532541],\n",
       "       [0.01329611, 0.01329611, 0.01329611]])"
      ]
     },
     "execution_count": 49,
     "metadata": {},
     "output_type": "execute_result"
    }
   ],
   "source": [
    "(1+g[0])*(1-g[0])/2"
   ]
  },
  {
   "cell_type": "code",
   "execution_count": 69,
   "metadata": {},
   "outputs": [
    {
     "data": {
      "text/plain": [
       "array([2, 3])"
      ]
     },
     "execution_count": 69,
     "metadata": {},
     "output_type": "execute_result"
    }
   ],
   "source": [
    "q = np.array([[2],[3],[4]])\n",
    "q[:len(q)-1,0]"
   ]
  },
  {
   "cell_type": "code",
   "execution_count": 60,
   "metadata": {},
   "outputs": [
    {
     "data": {
      "text/plain": [
       "3"
      ]
     },
     "execution_count": 60,
     "metadata": {},
     "output_type": "execute_result"
    }
   ],
   "source": [
    "len(q)"
   ]
  },
  {
   "cell_type": "code",
   "execution_count": 71,
   "metadata": {},
   "outputs": [
    {
     "data": {
      "text/plain": [
       "array([[ 4,  9, 16]])"
      ]
     },
     "execution_count": 71,
     "metadata": {},
     "output_type": "execute_result"
    }
   ],
   "source": [
    "q = np.array([[2,3,4]])\n",
    "q*q"
   ]
  },
  {
   "cell_type": "code",
   "execution_count": null,
   "metadata": {},
   "outputs": [],
   "source": []
  }
 ],
 "metadata": {
  "kernelspec": {
   "display_name": "Python 3",
   "language": "python",
   "name": "python3"
  },
  "language_info": {
   "codemirror_mode": {
    "name": "ipython",
    "version": 3
   },
   "file_extension": ".py",
   "mimetype": "text/x-python",
   "name": "python",
   "nbconvert_exporter": "python",
   "pygments_lexer": "ipython3",
   "version": "3.6.3"
  }
 },
 "nbformat": 4,
 "nbformat_minor": 2
}
